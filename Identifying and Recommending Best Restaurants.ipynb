{
 "cells": [
  {
   "cell_type": "code",
   "execution_count": 1,
   "id": "d84214e5",
   "metadata": {},
   "outputs": [],
   "source": [
    "import pandas as pd\n",
    "import numpy as np\n",
    "import seaborn as sns"
   ]
  },
  {
   "cell_type": "code",
   "execution_count": 9,
   "id": "21ed1698",
   "metadata": {},
   "outputs": [],
   "source": [
    "data=pd.read_csv('data.csv')"
   ]
  },
  {
   "cell_type": "code",
   "execution_count": 11,
   "id": "2dd04076",
   "metadata": {},
   "outputs": [
    {
     "name": "stdout",
     "output_type": "stream",
     "text": [
      "<class 'pandas.core.frame.DataFrame'>\n",
      "RangeIndex: 9551 entries, 0 to 9550\n",
      "Data columns (total 19 columns):\n",
      " #   Column                Non-Null Count  Dtype  \n",
      "---  ------                --------------  -----  \n",
      " 0   Restaurant ID         9551 non-null   int64  \n",
      " 1   Restaurant Name       9551 non-null   object \n",
      " 2   Country Code          9551 non-null   int64  \n",
      " 3   City                  9551 non-null   object \n",
      " 4   Address               9551 non-null   object \n",
      " 5   Locality              9551 non-null   object \n",
      " 6   Locality Verbose      9551 non-null   object \n",
      " 7   Longitude             9551 non-null   float64\n",
      " 8   Latitude              9551 non-null   float64\n",
      " 9   Cuisines              9542 non-null   object \n",
      " 10  Average Cost for two  9551 non-null   int64  \n",
      " 11  Currency              9551 non-null   object \n",
      " 12  Has Table booking     9551 non-null   object \n",
      " 13  Has Online delivery   9551 non-null   object \n",
      " 14  Price range           9551 non-null   int64  \n",
      " 15  Aggregate rating      9551 non-null   float64\n",
      " 16  Rating color          9551 non-null   object \n",
      " 17  Rating text           9551 non-null   object \n",
      " 18  Votes                 9551 non-null   int64  \n",
      "dtypes: float64(3), int64(5), object(11)\n",
      "memory usage: 1.4+ MB\n"
     ]
    }
   ],
   "source": [
    "# Stracture of data\n",
    "data.info()"
   ]
  },
  {
   "cell_type": "code",
   "execution_count": 12,
   "id": "16313145",
   "metadata": {},
   "outputs": [
    {
     "data": {
      "text/plain": [
       "Restaurant ID           0\n",
       "Restaurant Name         0\n",
       "Country Code            0\n",
       "City                    0\n",
       "Address                 0\n",
       "Locality                0\n",
       "Locality Verbose        0\n",
       "Longitude               0\n",
       "Latitude                0\n",
       "Cuisines                9\n",
       "Average Cost for two    0\n",
       "Currency                0\n",
       "Has Table booking       0\n",
       "Has Online delivery     0\n",
       "Price range             0\n",
       "Aggregate rating        0\n",
       "Rating color            0\n",
       "Rating text             0\n",
       "Votes                   0\n",
       "dtype: int64"
      ]
     },
     "execution_count": 12,
     "metadata": {},
     "output_type": "execute_result"
    }
   ],
   "source": [
    "# Missing value\n",
    "data.isnull().sum()"
   ]
  },
  {
   "cell_type": "code",
   "execution_count": 13,
   "id": "b06e74b9",
   "metadata": {},
   "outputs": [],
   "source": [
    "#Filling missing values\n",
    "data[\"Cuisines\"].fillna((\"Others\"),inplace=True)"
   ]
  },
  {
   "cell_type": "code",
   "execution_count": 14,
   "id": "23a63962",
   "metadata": {},
   "outputs": [
    {
     "data": {
      "text/plain": [
       "0"
      ]
     },
     "execution_count": 14,
     "metadata": {},
     "output_type": "execute_result"
    }
   ],
   "source": [
    "#Duplicate Values check\n",
    "data.duplicated().sum()\n"
   ]
  },
  {
   "cell_type": "markdown",
   "id": "63bd5c82",
   "metadata": {},
   "source": [
    "#Performing EDA\n",
    "1. Explore the geographical distribution of the restaurants and identify the cities with the maximum and minimum number of restaurants\n"
   ]
  },
  {
   "cell_type": "code",
   "execution_count": 15,
   "id": "8fb0491a",
   "metadata": {},
   "outputs": [
    {
     "data": {
      "text/plain": [
       "City\n",
       "Ojo Caliente         1\n",
       "Clatskanie           1\n",
       "Cochrane             1\n",
       "Phillip Island       1\n",
       "Potrero              1\n",
       "                  ... \n",
       "Ghaziabad           25\n",
       "Faridabad          251\n",
       "Noida             1080\n",
       "Gurgaon           1118\n",
       "New Delhi         5473\n",
       "Length: 141, dtype: int64"
      ]
     },
     "execution_count": 15,
     "metadata": {},
     "output_type": "execute_result"
    }
   ],
   "source": [
    "data.groupby(\"City\").size().sort_values()"
   ]
  },
  {
   "cell_type": "markdown",
   "id": "7157fef7",
   "metadata": {},
   "source": [
    "#city with max restaurant has count = 5473\n",
    "#city with min restaurant has count = 1"
   ]
  },
  {
   "cell_type": "code",
   "execution_count": null,
   "id": "57ea3cad",
   "metadata": {},
   "outputs": [],
   "source": [
    " #Restaurant franchising is a thriving venture. So, it is very important to explore the franchise with most national presence\n"
   ]
  },
  {
   "cell_type": "code",
   "execution_count": 19,
   "id": "def79c39",
   "metadata": {},
   "outputs": [],
   "source": [
    "CC=pd.read_excel(\"Country-Code.xlsx\")"
   ]
  },
  {
   "cell_type": "code",
   "execution_count": 20,
   "id": "eaf61a13",
   "metadata": {},
   "outputs": [],
   "source": [
    "ndata=pd.merge(data,CC, on=\"Country Code\", how=\"inner\")\n"
   ]
  },
  {
   "cell_type": "code",
   "execution_count": 21,
   "id": "9da0ee87",
   "metadata": {},
   "outputs": [
    {
     "data": {
      "text/plain": [
       "Country\n",
       "Canada               4\n",
       "Qatar               20\n",
       "Singapore           20\n",
       "Sri Lanka           20\n",
       "Indonesia           21\n",
       "Phillipines         22\n",
       "Australia           24\n",
       "Turkey              34\n",
       "New Zealand         40\n",
       "Brazil              60\n",
       "South Africa        60\n",
       "UAE                 60\n",
       "United Kingdom      80\n",
       "United States      434\n",
       "India             8652\n",
       "dtype: int64"
      ]
     },
     "execution_count": 21,
     "metadata": {},
     "output_type": "execute_result"
    }
   ],
   "source": [
    "ndata.groupby(\"Country\").size().sort_values()\n"
   ]
  },
  {
   "cell_type": "code",
   "execution_count": null,
   "id": "5fa5645c",
   "metadata": {},
   "outputs": [],
   "source": [
    "#Find out the ratio between restaurants that allow table booking vs.those that do not allow table booking"
   ]
  },
  {
   "cell_type": "code",
   "execution_count": 22,
   "id": "2b119830",
   "metadata": {},
   "outputs": [
    {
     "data": {
      "text/plain": [
       "Has Table booking\n",
       "No     8393\n",
       "Yes    1158\n",
       "dtype: int64"
      ]
     },
     "execution_count": 22,
     "metadata": {},
     "output_type": "execute_result"
    }
   ],
   "source": [
    "ndata.groupby(\"Has Table booking\").size()"
   ]
  },
  {
   "cell_type": "code",
   "execution_count": null,
   "id": "9e0e184b",
   "metadata": {},
   "outputs": [],
   "source": [
    "#Find out the percentage of restaurants providing online delivery"
   ]
  },
  {
   "cell_type": "code",
   "execution_count": 24,
   "id": "240e59e4",
   "metadata": {},
   "outputs": [
    {
     "data": {
      "text/plain": [
       "Has Online delivery\n",
       "No     74.337766\n",
       "Yes    25.662234\n",
       "dtype: float64"
      ]
     },
     "execution_count": 24,
     "metadata": {},
     "output_type": "execute_result"
    }
   ],
   "source": [
    "per=ndata.groupby(\"Has Online delivery\").size()\n",
    "percentage=per*100/9551\n",
    "percentage"
   ]
  },
  {
   "cell_type": "code",
   "execution_count": null,
   "id": "34c1a915",
   "metadata": {},
   "outputs": [],
   "source": [
    "#Calculate the difference in number of votes for the restaurants that deliver and the restaurants that do not deliver"
   ]
  },
  {
   "cell_type": "code",
   "execution_count": 25,
   "id": "5865b426",
   "metadata": {},
   "outputs": [],
   "source": [
    "ndata2=ndata.loc[ndata['Has Online delivery'] == \"Yes\", \n",
    "'Votes'].count()\n",
    "ndata3=ndata.loc[ndata['Has Online delivery'] == \"No\", \n",
    "'Votes'].count()\n"
   ]
  },
  {
   "cell_type": "code",
   "execution_count": 26,
   "id": "1eeab455",
   "metadata": {},
   "outputs": [
    {
     "data": {
      "text/plain": [
       "2451"
      ]
     },
     "execution_count": 26,
     "metadata": {},
     "output_type": "execute_result"
    }
   ],
   "source": [
    "#Has online delivery votes count\n",
    "ndata2"
   ]
  },
  {
   "cell_type": "code",
   "execution_count": 27,
   "id": "c7c07fa7",
   "metadata": {},
   "outputs": [
    {
     "data": {
      "text/plain": [
       "7100"
      ]
     },
     "execution_count": 27,
     "metadata": {},
     "output_type": "execute_result"
    }
   ],
   "source": [
    "#Has no online delivery votes count\n",
    "ndata3\n"
   ]
  },
  {
   "cell_type": "code",
   "execution_count": 28,
   "id": "2573120b",
   "metadata": {},
   "outputs": [
    {
     "data": {
      "text/plain": [
       "4649"
      ]
     },
     "execution_count": 28,
     "metadata": {},
     "output_type": "execute_result"
    }
   ],
   "source": [
    "difference=ndata3-ndata2\n",
    "difference"
   ]
  },
  {
   "cell_type": "code",
   "execution_count": null,
   "id": "28d347e6",
   "metadata": {},
   "outputs": [],
   "source": [
    "#Performing EDA:2 What are the top 10 cuisines served across cities?"
   ]
  },
  {
   "cell_type": "code",
   "execution_count": 29,
   "id": "d98a4d90",
   "metadata": {},
   "outputs": [
    {
     "data": {
      "text/plain": [
       "City       Cuisines                      \n",
       "New Delhi  North Indian                      658\n",
       "           North Indian, Chinese             284\n",
       "           Fast Food                         242\n",
       "           Chinese                           228\n",
       "           North Indian, Mughlai             207\n",
       "           Cafe                              158\n",
       "           Street Food                       123\n",
       "           Bakery                            122\n",
       "           North Indian, Mughlai, Chinese    120\n",
       "           Bakery, Desserts                  117\n",
       "dtype: int64"
      ]
     },
     "execution_count": 29,
     "metadata": {},
     "output_type": "execute_result"
    }
   ],
   "source": [
    "top_10=ndata.groupby([\"City\",\"Cuisines\"]).size().sort_values(ascending=[False])\n",
    "top_10.head(10)\n"
   ]
  },
  {
   "cell_type": "code",
   "execution_count": null,
   "id": "48453a4b",
   "metadata": {},
   "outputs": [],
   "source": [
    "#What is the maximum and minimum number of cuisines that a restaurant serves? \n",
    "#Also, which is the most served cuisine across the restaurant for eachcity?"
   ]
  },
  {
   "cell_type": "code",
   "execution_count": 31,
   "id": "9af8f37e",
   "metadata": {},
   "outputs": [
    {
     "data": {
      "text/plain": [
       "Restaurant Name  Cuisines\n",
       "Cafe Coffee Day  Cafe        83\n",
       "dtype: int64"
      ]
     },
     "execution_count": 31,
     "metadata": {},
     "output_type": "execute_result"
    }
   ],
   "source": [
    "cserved=ndata.groupby([\"Restaurant Name\",\"Cuisines\"]).size().sort_values(ascending=[False])\n",
    "cserved.head(1)\n"
   ]
  },
  {
   "cell_type": "code",
   "execution_count": 32,
   "id": "16e99c24",
   "metadata": {},
   "outputs": [
    {
     "data": {
      "text/plain": [
       "Restaurant Name      Cuisines     \n",
       "Ìàukura€Ùa Sofras€±  Kebab, Izgara    1\n",
       "dtype: int64"
      ]
     },
     "execution_count": 32,
     "metadata": {},
     "output_type": "execute_result"
    }
   ],
   "source": [
    "cserved.tail(1)"
   ]
  },
  {
   "cell_type": "code",
   "execution_count": 34,
   "id": "e2125768",
   "metadata": {},
   "outputs": [],
   "source": [
    "most_cserved=ndata.groupby([\"Restaurant Name\",\"City\",\"Cuisines\"]).size().sort_values(ascending=False)\n"
   ]
  },
  {
   "cell_type": "code",
   "execution_count": null,
   "id": "6b6a8db8",
   "metadata": {},
   "outputs": [],
   "source": [
    "#Also, which is the most served cuisine across the restaurant for eachcity?"
   ]
  },
  {
   "cell_type": "code",
   "execution_count": null,
   "id": "be803afc",
   "metadata": {},
   "outputs": [],
   "source": [
    "#From below result we can see that most served cuisine is cafe at cafecofee day in New Delhi city "
   ]
  },
  {
   "cell_type": "code",
   "execution_count": 36,
   "id": "663041fe",
   "metadata": {},
   "outputs": [
    {
     "data": {
      "text/plain": [
       "Restaurant Name               City        Cuisines                                \n",
       "Cafe Coffee Day               New Delhi   Cafe                                        57\n",
       "Domino's Pizza                New Delhi   Pizza, Fast Food                            55\n",
       "Subway                        New Delhi   American, Fast Food, Salad, Healthy Food    38\n",
       "Green Chick Chop              New Delhi   Raw Meats, North Indian, Fast Food          35\n",
       "McDonald's                    New Delhi   Fast Food, Burger                           33\n",
       "                                                                                      ..\n",
       "Fuji Japanese Restaurant      New Delhi   Japanese                                     1\n",
       "Fuji Bay Japanese Restaurant  Sioux City  Japanese, Sushi                              1\n",
       "Fuel Diet Cafe                New Delhi   Healthy Food                                 1\n",
       "Fudged                        New Delhi   Desserts, Bakery                             1\n",
       "Ìàukura€Ùa Sofras€±           Ankara      Kebab, Izgara                                1\n",
       "Length: 8291, dtype: int64"
      ]
     },
     "execution_count": 36,
     "metadata": {},
     "output_type": "execute_result"
    }
   ],
   "source": [
    "most_cserved"
   ]
  },
  {
   "cell_type": "code",
   "execution_count": 37,
   "id": "61754b63",
   "metadata": {},
   "outputs": [
    {
     "data": {
      "text/plain": [
       "Restaurant Name      City       Cuisines                                  Average Cost for two\n",
       "Cafe Coffee Day      New Delhi  Cafe                                      450                     57\n",
       "Domino's Pizza       New Delhi  Pizza, Fast Food                          700                     55\n",
       "Subway               New Delhi  American, Fast Food, Salad, Healthy Food  500                     38\n",
       "Green Chick Chop     New Delhi  Raw Meats, North Indian, Fast Food        350                     35\n",
       "McDonald's           New Delhi  Fast Food, Burger                         500                     33\n",
       "                                                                                                  ..\n",
       "Fuel Diet Cafe       New Delhi  Healthy Food                              350                      1\n",
       "Fudged               New Delhi  Desserts, Bakery                          400                      1\n",
       "Fu.D                 Gurgaon    Cafe, Fast Food                           250                      1\n",
       "Fry Centre           New Delhi  North Indian                              200                      1\n",
       "Ìàukura€Ùa Sofras€±  Ankara     Kebab, Izgara                             60                       1\n",
       "Length: 8457, dtype: int64"
      ]
     },
     "execution_count": 37,
     "metadata": {},
     "output_type": "execute_result"
    }
   ],
   "source": [
    "#What is the distribution cost across the restaurants? \n",
    "\n",
    "dist_cost=ndata.groupby([\"Restaurant Name\",\"City\",\"Cuisines\",\"Average Cost for two\"]).size().sort_values(ascending=False)\n",
    "dist_cost\n"
   ]
  },
  {
   "cell_type": "code",
   "execution_count": 38,
   "id": "cd79277e",
   "metadata": {},
   "outputs": [
    {
     "data": {
      "text/plain": [
       "Aggregate rating  Rating text  Rating color\n",
       "0.0               Not rated    White           2148\n",
       "1.8               Poor         Red                1\n",
       "1.9               Poor         Red                2\n",
       "2.0               Poor         Red                7\n",
       "2.1               Poor         Red               15\n",
       "2.2               Poor         Red               27\n",
       "2.3               Poor         Red               47\n",
       "2.4               Poor         Red               87\n",
       "2.5               Average      Orange           110\n",
       "2.6               Average      Orange           191\n",
       "2.7               Average      Orange           250\n",
       "2.8               Average      Orange           315\n",
       "2.9               Average      Orange           381\n",
       "3.0               Average      Orange           468\n",
       "3.1               Average      Orange           519\n",
       "3.2               Average      Orange           522\n",
       "3.3               Average      Orange           483\n",
       "3.4               Average      Orange           498\n",
       "3.5               Good         Yellow           480\n",
       "3.6               Good         Yellow           458\n",
       "3.7               Good         Yellow           427\n",
       "3.8               Good         Yellow           400\n",
       "3.9               Good         Yellow           335\n",
       "4.0               Very Good    Green            266\n",
       "4.1               Very Good    Green            274\n",
       "4.2               Very Good    Green            221\n",
       "4.3               Very Good    Green            174\n",
       "4.4               Very Good    Green            144\n",
       "4.5               Excellent    Dark Green        95\n",
       "4.6               Excellent    Dark Green        78\n",
       "4.7               Excellent    Dark Green        42\n",
       "4.8               Excellent    Dark Green        25\n",
       "4.9               Excellent    Dark Green        61\n",
       "dtype: int64"
      ]
     },
     "execution_count": 38,
     "metadata": {},
     "output_type": "execute_result"
    }
   ],
   "source": [
    "#How ratings are distributed among the various factors?\n",
    "\n",
    "Ratings=ndata.groupby([\"Aggregate rating\",\"Rating text\",\"Rating color\"]).size()\n",
    "Ratings\n"
   ]
  },
  {
   "cell_type": "code",
   "execution_count": null,
   "id": "28f6d48a",
   "metadata": {},
   "outputs": [],
   "source": [
    "#Explain the factors in the data that may have an effect on ratings.\n",
    "#For example, number of cuisines, cost, delivery option, etc."
   ]
  },
  {
   "cell_type": "code",
   "execution_count": 41,
   "id": "cc8d6341",
   "metadata": {},
   "outputs": [],
   "source": [
    "Rating=ndata.groupby([\"Aggregate rating\",\"Cuisines\"]).size()"
   ]
  },
  {
   "cell_type": "code",
   "execution_count": 43,
   "id": "f877c448",
   "metadata": {},
   "outputs": [
    {
     "name": "stderr",
     "output_type": "stream",
     "text": [
      "C:\\Users\\VOZON\\anaconda3\\lib\\site-packages\\seaborn\\_decorators.py:36: FutureWarning: Pass the following variable as a keyword arg: x. From version 0.12, the only valid positional argument will be `data`, and passing other arguments without an explicit keyword will result in an error or misinterpretation.\n",
      "  warnings.warn(\n"
     ]
    },
    {
     "data": {
      "text/plain": [
       "<seaborn.axisgrid.JointGrid at 0x14f242d6400>"
      ]
     },
     "execution_count": 43,
     "metadata": {},
     "output_type": "execute_result"
    },
    {
     "data": {
      "image/png": "[encoded data removed]",
      "text/plain": [
       "<Figure size 432x432 with 3 Axes>"
      ]
     },
     "metadata": {
      "needs_background": "light"
     },
     "output_type": "display_data"
    }
   ],
   "source": [
    "sns.jointplot(\"Aggregate rating\",y=ndata.Cuisines.count(),data=ndata)"
   ]
  },
  {
   "cell_type": "code",
   "execution_count": 50,
   "id": "b7049633",
   "metadata": {},
   "outputs": [
    {
     "name": "stderr",
     "output_type": "stream",
     "text": [
      "C:\\Users\\VOZON\\anaconda3\\lib\\site-packages\\seaborn\\_decorators.py:36: FutureWarning: Pass the following variables as keyword args: x, y. From version 0.12, the only valid positional argument will be `data`, and passing other arguments without an explicit keyword will result in an error or misinterpretation.\n",
      "  warnings.warn(\n"
     ]
    },
    {
     "data": {
      "text/html": [
       "<div>\n",
       "<style scoped>\n",
       "    .dataframe tbody tr th:only-of-type {\n",
       "        vertical-align: middle;\n",
       "    }\n",
       "\n",
       "    .dataframe tbody tr th {\n",
       "        vertical-align: top;\n",
       "    }\n",
       "\n",
       "    .dataframe thead th {\n",
       "        text-align: right;\n",
       "    }\n",
       "</style>\n",
       "<table border=\"1\" class=\"dataframe\">\n",
       "  <thead>\n",
       "    <tr style=\"text-align: right;\">\n",
       "      <th></th>\n",
       "      <th>Average Cost for two</th>\n",
       "      <th>Aggregate rating</th>\n",
       "    </tr>\n",
       "  </thead>\n",
       "  <tbody>\n",
       "    <tr>\n",
       "      <th>Average Cost for two</th>\n",
       "      <td>1.000000</td>\n",
       "      <td>0.051792</td>\n",
       "    </tr>\n",
       "    <tr>\n",
       "      <th>Aggregate rating</th>\n",
       "      <td>0.051792</td>\n",
       "      <td>1.000000</td>\n",
       "    </tr>\n",
       "  </tbody>\n",
       "</table>\n",
       "</div>"
      ],
      "text/plain": [
       "                      Average Cost for two  Aggregate rating\n",
       "Average Cost for two              1.000000          0.051792\n",
       "Aggregate rating                  0.051792          1.000000"
      ]
     },
     "execution_count": 50,
     "metadata": {},
     "output_type": "execute_result"
    },
    {
     "data": {
      "image/png": "[encoded data removed]",
      "text/plain": [
       "<Figure size 1440x864 with 1 Axes>"
      ]
     },
     "metadata": {},
     "output_type": "display_data"
    }
   ],
   "source": [
    "import matplotlib.pyplot as plt\n",
    "sns.barplot(\"Aggregate rating\",\"Average Cost for two\",data=ndata)\n",
    "sns.set(rc = {'figure.figsize':(12,12)})\n",
    "ndata[[\"Average Cost for two\", \"Aggregate rating\"]].corr()"
   ]
  },
  {
   "cell_type": "code",
   "execution_count": null,
   "id": "3cf23552",
   "metadata": {},
   "outputs": [],
   "source": [
    "#From below chart we can see that there are very few restaurants for which average cost is more then 5000 \n",
    "#This factor is also not good to analyse rating "
   ]
  },
  {
   "cell_type": "code",
   "execution_count": 51,
   "id": "05f10ac1",
   "metadata": {},
   "outputs": [
    {
     "name": "stderr",
     "output_type": "stream",
     "text": [
      "C:\\Users\\VOZON\\anaconda3\\lib\\site-packages\\seaborn\\_decorators.py:36: FutureWarning: Pass the following variables as keyword args: x, y. From version 0.12, the only valid positional argument will be `data`, and passing other arguments without an explicit keyword will result in an error or misinterpretation.\n",
      "  warnings.warn(\n"
     ]
    },
    {
     "data": {
      "text/plain": [
       "<AxesSubplot:xlabel='Has Online delivery', ylabel='Aggregate rating'>"
      ]
     },
     "execution_count": 51,
     "metadata": {},
     "output_type": "execute_result"
    },
    {
     "data": {
      "image/png": "[encoded data removed]",
      "text/plain": [
       "<Figure size 864x864 with 1 Axes>"
      ]
     },
     "metadata": {},
     "output_type": "display_data"
    }
   ],
   "source": [
    "sns.boxplot(\"Has Online delivery\",\"Aggregate rating\",data=ndata)\n",
    "#From below chart we can find out that restaurant which is not delivering online are mostly having rating for their restaurant\n",
    "#as comparision with restaurants which are delivering online"
   ]
  },
  {
   "cell_type": "code",
   "execution_count": 52,
   "id": "990bac37",
   "metadata": {},
   "outputs": [
    {
     "data": {
      "text/plain": [
       "<seaborn.axisgrid.JointGrid at 0x14f25ccf640>"
      ]
     },
     "execution_count": 52,
     "metadata": {},
     "output_type": "execute_result"
    },
    {
     "data": {
      "image/png": "[encoded data removed]",
      "text/plain": [
       "<Figure size 432x432 with 3 Axes>"
      ]
     },
     "metadata": {},
     "output_type": "display_data"
    }
   ],
   "source": [
    "sns.jointplot(x=\"Aggregate rating\",y=\"Votes\",data=ndata)\n",
    "#From below chart we can see that max restaurants are voted between 0 to 2000 & mostly ratings fall between 2.7 to 4"
   ]
  },
  {
   "cell_type": "code",
   "execution_count": null,
   "id": "8a81231b",
   "metadata": {},
   "outputs": [],
   "source": []
  }
 ],
 "metadata": {
  "kernelspec": {
   "display_name": "Python 3 (ipykernel)",
   "language": "python",
   "name": "python3"
  },
  "language_info": {
   "codemirror_mode": {
    "name": "ipython",
    "version": 3
   },
   "file_extension": ".py",
   "mimetype": "text/x-python",
   "name": "python",
   "nbconvert_exporter": "python",
   "pygments_lexer": "ipython3",
   "version": "3.9.7"
  }
 },
 "nbformat": 4,
 "nbformat_minor": 5
}
